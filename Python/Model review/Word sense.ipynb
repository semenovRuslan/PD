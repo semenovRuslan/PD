{
 "cells": [
  {
   "cell_type": "markdown",
   "metadata": {
    "collapsed": true
   },
   "source": [
    "# Good Title - half of success!!! \n",
    "\n",
    "In this model try to analyse text part - Title of book. We will receive model which analysing Title and can say about future rating of new book. Let's focus on success of book and devide balls: 0-4 will consider like \"fail\", 5-10 -it is \"success\"."
   ]
  },
  {
   "cell_type": "code",
   "execution_count": 1,
   "metadata": {},
   "outputs": [
    {
     "name": "stderr",
     "output_type": "stream",
     "text": [
      "C:\\Users\\Semenov.R\\AppData\\Local\\Continuum\\anaconda3\\envs\\yourenvname\\lib\\site-packages\\sklearn\\cross_validation.py:41: DeprecationWarning: This module was deprecated in version 0.18 in favor of the model_selection module into which all the refactored classes and functions are moved. Also note that the interface of the new CV iterators are different from that of this module. This module will be removed in 0.20.\n",
      "  \"This module will be removed in 0.20.\", DeprecationWarning)\n",
      "C:\\Users\\Semenov.R\\AppData\\Local\\Continuum\\anaconda3\\envs\\yourenvname\\lib\\site-packages\\sklearn\\grid_search.py:42: DeprecationWarning: This module was deprecated in version 0.18 in favor of the model_selection module into which all the refactored classes and functions are moved. This module will be removed in 0.20.\n",
      "  DeprecationWarning)\n"
     ]
    }
   ],
   "source": [
    "from sklearn import  cross_validation, grid_search, linear_model, metrics\n",
    "\n",
    "import numpy as np\n",
    "import pandas as pd\n",
    "\n",
    "import mysql.connector\n",
    "from mysql.connector import errorcode"
   ]
  },
  {
   "cell_type": "code",
   "execution_count": 2,
   "metadata": {},
   "outputs": [
    {
     "name": "stdout",
     "output_type": "stream",
     "text": [
      "Populating the interactive namespace from numpy and matplotlib\n"
     ]
    }
   ],
   "source": [
    "%pylab inline"
   ]
  },
  {
   "cell_type": "code",
   "execution_count": 3,
   "metadata": {},
   "outputs": [],
   "source": [
    "cnx = mysql.connector.connect(user='sena', password='qWERtYhGfDsA12#', host='10.3.99.94', database='bookstore')\n",
    "cursor = cnx.cursor()\n",
    "\n",
    "query = (\"select Title, case when `Book-Rating`>=5 then 1 else 0 end Raiting \"\n",
    "\"from factrating f \"\n",
    "\"left join DimUsers du on (f.userid=du.userid) \"\n",
    "\"left join Dimcity dct on (du.cityid=dct.cityid) \"\n",
    "\"left join DimState ds on (dct.stateid = ds.stateid) \"\n",
    "\"left join Dimcountry dc on (ds.countryid=dc.countryid) \"\n",
    "\"left join DimBooks db on (db.ISBN=f.isbn) \"\n",
    "\"; \"         \n",
    ")\n",
    " \n",
    "cursor.execute(query)\n",
    "\n",
    "from pandas import DataFrame\n",
    "df = DataFrame(cursor.fetchall())\n",
    "df.columns = ('Title',  'Raiting')\n",
    "\n",
    "\n",
    "cursor.close()\n",
    "cnx.close()"
   ]
  },
  {
   "cell_type": "code",
   "execution_count": 4,
   "metadata": {},
   "outputs": [
    {
     "name": "stdout",
     "output_type": "stream",
     "text": [
      "(1149769, 2)\n",
      "0    735535\n",
      "1    414234\n",
      "Name: Raiting, dtype: int64\n"
     ]
    }
   ],
   "source": [
    "print df.shape\n",
    "print df.Raiting.value_counts()"
   ]
  },
  {
   "cell_type": "code",
   "execution_count": 5,
   "metadata": {},
   "outputs": [
    {
     "data": {
      "text/plain": [
       "False"
      ]
     },
     "execution_count": 5,
     "metadata": {},
     "output_type": "execute_result"
    }
   ],
   "source": [
    "df.isnull().values.any()"
   ]
  },
  {
   "cell_type": "code",
   "execution_count": 6,
   "metadata": {},
   "outputs": [],
   "source": [
    "TRAIN_SIZE = 0.7 # Разделение данных на обучающую и контрольную части в пропорции 70/30%\n",
    "from sklearn.cross_validation import train_test_split\n",
    "\n",
    "texts_train, texts_test, y_train, y_test = train_test_split(df.Title.values, df.Raiting.values)"
   ]
  },
  {
   "cell_type": "markdown",
   "metadata": {},
   "source": [
    "Transform text using standart module which devides text on world. Model will analyse impact word on ball "
   ]
  },
  {
   "cell_type": "code",
   "execution_count": 7,
   "metadata": {},
   "outputs": [
    {
     "name": "stderr",
     "output_type": "stream",
     "text": [
      "C:\\Users\\Semenov.R\\AppData\\Local\\Continuum\\anaconda3\\envs\\yourenvname\\lib\\site-packages\\sklearn\\feature_extraction\\text.py:1089: FutureWarning: Conversion of the second argument of issubdtype from `float` to `np.floating` is deprecated. In future, it will be treated as `np.float64 == np.dtype(float).type`.\n",
      "  if hasattr(X, 'dtype') and np.issubdtype(X.dtype, np.float):\n"
     ]
    }
   ],
   "source": [
    "from sklearn.feature_extraction.text import TfidfVectorizer\n",
    "vect = TfidfVectorizer(sublinear_tf=True, use_idf=True)\n",
    "X_train = vect.fit_transform(texts_train)\n",
    "X_test = vect.transform(texts_test)"
   ]
  },
  {
   "cell_type": "markdown",
   "metadata": {},
   "source": [
    "Build model and analyse result of prediction "
   ]
  },
  {
   "cell_type": "code",
   "execution_count": 8,
   "metadata": {},
   "outputs": [
    {
     "name": "stdout",
     "output_type": "stream",
     "text": [
      "0.6394624325518451\n",
      "0.5785258608222096\n"
     ]
    }
   ],
   "source": [
    "from sklearn.linear_model import LogisticRegression\n",
    "from sklearn import metrics\n",
    "clf = LogisticRegression()\n",
    "clf.fit(X_train, y_train)\n",
    "print metrics.accuracy_score(y_test, clf.predict(X_test))\n",
    "print metrics.roc_auc_score(y_test, clf.predict_proba(X_test)[:, 1])"
   ]
  },
  {
   "cell_type": "code",
   "execution_count": 9,
   "metadata": {},
   "outputs": [
    {
     "data": {
      "text/plain": [
       "(862326, 71550)"
      ]
     },
     "execution_count": 9,
     "metadata": {},
     "output_type": "execute_result"
    }
   ],
   "source": [
    "X_train.shape"
   ]
  },
  {
   "cell_type": "markdown",
   "metadata": {},
   "source": [
    "Detail analyse show that : there are a lot of properties in model. For improving result we will drop properties using Lasso:"
   ]
  },
  {
   "cell_type": "code",
   "execution_count": 10,
   "metadata": {},
   "outputs": [
    {
     "name": "stdout",
     "output_type": "stream",
     "text": [
      "1551\n",
      "0.6410523129803126\n",
      "0.5694967890244387\n"
     ]
    }
   ],
   "source": [
    "clf = LogisticRegression(C=0.15, penalty='l1')\n",
    "clf.fit(X_train, y_train)\n",
    "print np.sum(np.abs(clf.coef_) > 1e-4)\n",
    "print metrics.accuracy_score(y_test, clf.predict(X_test))\n",
    "print metrics.roc_auc_score(y_test, clf.predict_proba(X_test)[:, 1])"
   ]
  },
  {
   "cell_type": "code",
   "execution_count": 11,
   "metadata": {},
   "outputs": [
    {
     "name": "stderr",
     "output_type": "stream",
     "text": [
      "C:\\Users\\Semenov.R\\AppData\\Local\\Continuum\\anaconda3\\envs\\yourenvname\\lib\\site-packages\\sklearn\\utils\\deprecation.py:57: DeprecationWarning: Class RandomizedLogisticRegression is deprecated; The class RandomizedLogisticRegression is deprecated in 0.19 and will be removed in 0.21.\n",
      "  warnings.warn(msg, category=DeprecationWarning)\n",
      "C:\\Users\\Semenov.R\\AppData\\Local\\Continuum\\anaconda3\\envs\\yourenvname\\lib\\site-packages\\sklearn\\utils\\__init__.py:93: FutureWarning: Conversion of the second argument of issubdtype from `int` to `np.signedinteger` is deprecated. In future, it will be treated as `np.int32 == np.dtype(int).type`.\n",
      "  if np.issubdtype(mask.dtype, np.int):\n"
     ]
    },
    {
     "data": {
      "text/plain": [
       "RandomizedLogisticRegression(C=0.13, fit_intercept=True, memory=None,\n",
       "               n_jobs=1, n_resampling=200, normalize=True,\n",
       "               pre_dispatch='3*n_jobs', random_state=None,\n",
       "               sample_fraction=0.75, scaling=0.5, selection_threshold=0.25,\n",
       "               tol=0.001, verbose=False)"
      ]
     },
     "execution_count": 11,
     "metadata": {},
     "output_type": "execute_result"
    }
   ],
   "source": [
    "from sklearn.linear_model import RandomizedLogisticRegression\n",
    "rlg = RandomizedLogisticRegression(C=0.13)\n",
    "rlg.fit(X_train, y_train)"
   ]
  },
  {
   "cell_type": "code",
   "execution_count": 12,
   "metadata": {},
   "outputs": [],
   "source": [
    "X_train_lasso = X_train[:, rlg.scores_ > 0]\n",
    "X_test_lasso = X_test[:, rlg.scores_ > 0]"
   ]
  },
  {
   "cell_type": "code",
   "execution_count": 13,
   "metadata": {},
   "outputs": [
    {
     "name": "stdout",
     "output_type": "stream",
     "text": [
      "0.6403947913151476\n",
      "0.5209011619074084\n"
     ]
    }
   ],
   "source": [
    "clf = LogisticRegression(C=1)\n",
    "clf.fit(X_train_lasso, y_train)\n",
    "print metrics.accuracy_score(y_test, clf.predict(X_test_lasso))\n",
    "print metrics.roc_auc_score(y_test, clf.predict_proba(X_test_lasso)[:, 1])"
   ]
  },
  {
   "cell_type": "code",
   "execution_count": null,
   "metadata": {},
   "outputs": [],
   "source": []
  }
 ],
 "metadata": {
  "anaconda-cloud": {},
  "kernelspec": {
   "display_name": "Python [conda env:yourenvname]",
   "language": "python",
   "name": "conda-env-yourenvname-py"
  },
  "language_info": {
   "codemirror_mode": {
    "name": "ipython",
    "version": 2
   },
   "file_extension": ".py",
   "mimetype": "text/x-python",
   "name": "python",
   "nbconvert_exporter": "python",
   "pygments_lexer": "ipython2",
   "version": "2.7.16"
  }
 },
 "nbformat": 4,
 "nbformat_minor": 1
}
